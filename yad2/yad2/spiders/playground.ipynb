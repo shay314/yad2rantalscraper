{
 "cells": [
  {
   "cell_type": "code",
   "execution_count": 23,
   "metadata": {},
   "outputs": [
    {
     "ename": "SMTPRecipientsRefused",
     "evalue": "{'shay.mrglitgmail.com': (553, b'5.1.3 The recipient address <shay.mrglitgmail.com> is not a valid RFC-5321\\n5.1.3 address. Learn more at\\n5.1.3  https://support.google.com/mail/answer/6596 a15-20020a05600c224f00b00397220a9354sm1776819wmm.30 - gsmtp')}",
     "output_type": "error",
     "traceback": [
      "\u001b[0;31m---------------------------------------------------------------------------\u001b[0m",
      "\u001b[0;31mSMTPRecipientsRefused\u001b[0m                     Traceback (most recent call last)",
      "\u001b[0;32m/tmp/ipykernel_31659/1802694015.py\u001b[0m in \u001b[0;36m<module>\u001b[0;34m\u001b[0m\n\u001b[1;32m     27\u001b[0m \u001b[0msession\u001b[0m\u001b[0;34m.\u001b[0m\u001b[0mlogin\u001b[0m\u001b[0;34m(\u001b[0m\u001b[0msender_address\u001b[0m\u001b[0;34m,\u001b[0m \u001b[0msender_pass\u001b[0m\u001b[0;34m)\u001b[0m \u001b[0;31m#login with mail_id and password\u001b[0m\u001b[0;34m\u001b[0m\u001b[0;34m\u001b[0m\u001b[0m\n\u001b[1;32m     28\u001b[0m \u001b[0mtext\u001b[0m \u001b[0;34m=\u001b[0m \u001b[0mmessage\u001b[0m\u001b[0;34m.\u001b[0m\u001b[0mas_string\u001b[0m\u001b[0;34m(\u001b[0m\u001b[0;34m)\u001b[0m\u001b[0;34m\u001b[0m\u001b[0;34m\u001b[0m\u001b[0m\n\u001b[0;32m---> 29\u001b[0;31m \u001b[0msession\u001b[0m\u001b[0;34m.\u001b[0m\u001b[0msendmail\u001b[0m\u001b[0;34m(\u001b[0m\u001b[0msender_address\u001b[0m\u001b[0;34m,\u001b[0m \u001b[0mreceiver_address\u001b[0m\u001b[0;34m,\u001b[0m \u001b[0mtext\u001b[0m\u001b[0;34m)\u001b[0m\u001b[0;34m\u001b[0m\u001b[0;34m\u001b[0m\u001b[0m\n\u001b[0m\u001b[1;32m     30\u001b[0m \u001b[0msession\u001b[0m\u001b[0;34m.\u001b[0m\u001b[0mquit\u001b[0m\u001b[0;34m(\u001b[0m\u001b[0;34m)\u001b[0m\u001b[0;34m\u001b[0m\u001b[0;34m\u001b[0m\u001b[0m\n\u001b[1;32m     31\u001b[0m \u001b[0mprint\u001b[0m\u001b[0;34m(\u001b[0m\u001b[0;34m'Mail Sent'\u001b[0m\u001b[0;34m)\u001b[0m\u001b[0;34m\u001b[0m\u001b[0;34m\u001b[0m\u001b[0m\n",
      "\u001b[0;32m~/anaconda3/envs/yad2/lib/python3.7/smtplib.py\u001b[0m in \u001b[0;36msendmail\u001b[0;34m(self, from_addr, to_addrs, msg, mail_options, rcpt_options)\u001b[0m\n\u001b[1;32m    884\u001b[0m             \u001b[0;31m# the server refused all our recipients\u001b[0m\u001b[0;34m\u001b[0m\u001b[0;34m\u001b[0m\u001b[0;34m\u001b[0m\u001b[0m\n\u001b[1;32m    885\u001b[0m             \u001b[0mself\u001b[0m\u001b[0;34m.\u001b[0m\u001b[0m_rset\u001b[0m\u001b[0;34m(\u001b[0m\u001b[0;34m)\u001b[0m\u001b[0;34m\u001b[0m\u001b[0;34m\u001b[0m\u001b[0m\n\u001b[0;32m--> 886\u001b[0;31m             \u001b[0;32mraise\u001b[0m \u001b[0mSMTPRecipientsRefused\u001b[0m\u001b[0;34m(\u001b[0m\u001b[0msenderrs\u001b[0m\u001b[0;34m)\u001b[0m\u001b[0;34m\u001b[0m\u001b[0;34m\u001b[0m\u001b[0m\n\u001b[0m\u001b[1;32m    887\u001b[0m         \u001b[0;34m(\u001b[0m\u001b[0mcode\u001b[0m\u001b[0;34m,\u001b[0m \u001b[0mresp\u001b[0m\u001b[0;34m)\u001b[0m \u001b[0;34m=\u001b[0m \u001b[0mself\u001b[0m\u001b[0;34m.\u001b[0m\u001b[0mdata\u001b[0m\u001b[0;34m(\u001b[0m\u001b[0mmsg\u001b[0m\u001b[0;34m)\u001b[0m\u001b[0;34m\u001b[0m\u001b[0;34m\u001b[0m\u001b[0m\n\u001b[1;32m    888\u001b[0m         \u001b[0;32mif\u001b[0m \u001b[0mcode\u001b[0m \u001b[0;34m!=\u001b[0m \u001b[0;36m250\u001b[0m\u001b[0;34m:\u001b[0m\u001b[0;34m\u001b[0m\u001b[0;34m\u001b[0m\u001b[0m\n",
      "\u001b[0;31mSMTPRecipientsRefused\u001b[0m: {'shay.mrglitgmail.com': (553, b'5.1.3 The recipient address <shay.mrglitgmail.com> is not a valid RFC-5321\\n5.1.3 address. Learn more at\\n5.1.3  https://support.google.com/mail/answer/6596 a15-20020a05600c224f00b00397220a9354sm1776819wmm.30 - gsmtp')}"
     ]
    }
   ],
   "source": [
    "import smtplib\n",
    "from email.mime.multipart import MIMEMultipart\n",
    "from email.mime.text import MIMEText\n",
    "mail_content = '''Hello,\n",
    "This is a simple mail. There is only text, no attachments are there The mail is sent using Python SMTP library.\n",
    "Thank You'''\n",
    "\n",
    "#The mail addresses and password\n",
    "sender_address = 'lfirst960@gmail.com'\n",
    "sender_pass = '1234a4321'\n",
    "receiver_address = 'shay.mrglitgmail.com'\n",
    "\n",
    "#Setup the MIME\n",
    "message = MIMEMultipart()\n",
    "message['From'] = sender_address\n",
    "message['To'] = receiver_address\n",
    "message['Subject'] = 'A test mail sent by Python. It has an attachment.'   #The subject line\n",
    "\n",
    "#The body and the attachments for the mail\n",
    "message.attach(MIMEText(mail_content, 'plain'))\n",
    "\n",
    "#Create SMTP session for sending the mail\n",
    "session = smtplib.SMTP('smtp.gmail.com', 587) #use gmail with port\n",
    "session.ehlo()\n",
    "session.starttls() #enable security\n",
    "session.ehlo()\n",
    "session.login(sender_address, sender_pass) #login with mail_id and password\n",
    "text = message.as_string()\n",
    "session.sendmail(sender_address, receiver_address, text)\n",
    "session.quit()\n",
    "print('Mail Sent')"
   ]
  },
  {
   "cell_type": "code",
   "execution_count": 16,
   "metadata": {},
   "outputs": [],
   "source": [
    "import smtplib, ssl\n",
    "\n",
    "class Mail:\n",
    "    def __init__(self):\n",
    "        self.port = 465\n",
    "        self.smtp_server_domain_name = \"smtp.gmail.com\"\n",
    "        self.sender_mail = 'lfirst960@gmail.com'\n",
    "        self.password = '1234a4321'\n",
    "\n",
    "    def send(self, emails, subject, content):\n",
    "        ssl_context = ssl.create_default_context()\n",
    "        service = smtplib.SMTP_SSL(self.smtp_server_domain_name, self.port, context=ssl_context)\n",
    "        service.login(self.sender_mail, self.password)\n",
    "        \n",
    "        for email in emails:\n",
    "            result = service.sendmail(self.sender_mail, email, f\"Subject: {subject}\\n{content}\")\n",
    "\n",
    "        service.quit()"
   ]
  },
  {
   "cell_type": "code",
   "execution_count": 21,
   "metadata": {},
   "outputs": [],
   "source": [
    "mails = ['shay.mrglit@gmail.com']\n",
    "subject = \"koko\"\n",
    "content = \"<h1>hello</h1>\"\n",
    "\n",
    "mail = Mail()\n",
    "mail.send(mails, subject, content)"
   ]
  }
 ],
 "metadata": {
  "interpreter": {
   "hash": "bb5af04d2b64395017661357551e0332ccad73abe8baee5ed0599534cff42813"
  },
  "kernelspec": {
   "display_name": "Python 3.7.13 ('yad2')",
   "language": "python",
   "name": "python3"
  },
  "language_info": {
   "codemirror_mode": {
    "name": "ipython",
    "version": 3
   },
   "file_extension": ".py",
   "mimetype": "text/x-python",
   "name": "python",
   "nbconvert_exporter": "python",
   "pygments_lexer": "ipython3",
   "version": "3.7.13"
  },
  "orig_nbformat": 4
 },
 "nbformat": 4,
 "nbformat_minor": 2
}
